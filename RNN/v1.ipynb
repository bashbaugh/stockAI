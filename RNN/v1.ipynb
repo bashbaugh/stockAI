{
 "cells": [
  {
   "cell_type": "markdown",
   "metadata": {},
   "source": [
    "# RNN trading AI v1"
   ]
  },
  {
   "cell_type": "code",
   "execution_count": 1,
   "metadata": {
    "scrolled": true
   },
   "outputs": [
    {
     "name": "stdout",
     "output_type": "stream",
     "text": [
      "data loaded\n"
     ]
    }
   ],
   "source": [
    "#load data\n",
    "import os\n",
    "data_file = \"../data/GC 06-18.txt\"\n",
    "with open(data_file, \"r\") as f:\n",
    "    rawdata = f.read()\n",
    "    f.close()\n",
    "print(\"data loaded\")"
   ]
  },
  {
   "cell_type": "code",
   "execution_count": 6,
   "metadata": {
    "scrolled": true,
    "slideshow": {
     "slide_type": "-"
    }
   },
   "outputs": [
    {
     "name": "stdout",
     "output_type": "stream",
     "text": [
      "697698\n",
      "data prepared\n"
     ]
    }
   ],
   "source": [
    "#prepare data\n",
    "import numpy as np\n",
    "lines = rawdata.split('\\n')\n",
    "print(len(lines))\n",
    "data = np.zeros((len(lines), 4))\n",
    "for i, line in enumerate(lines):\n",
    "    #origvalues = line.split('\\t')\n",
    "    #values = [float(v) for v in origvalues[2:]]\n",
    "    values = [float(v) for v in line.split('\\t')[2:]]\n",
    "    try:\n",
    "        data[i, :] = values\n",
    "    except:\n",
    "        data[i, :] = data[i - 1, :]\n",
    "\n",
    "print(\"data prepared\")"
   ]
  },
  {
   "cell_type": "code",
   "execution_count": null,
   "metadata": {
    "scrolled": true
   },
   "outputs": [],
   "source": [
    "from matplotlib import pyplot as plt\n",
    "val = data[:, 3]\n",
    "%matplotlib inline\n",
    "plt.plot(range(len(val)), val)"
   ]
  },
  {
   "cell_type": "code",
   "execution_count": 11,
   "metadata": {},
   "outputs": [
    {
     "name": "stdout",
     "output_type": "stream",
     "text": [
      "done\n",
      "[-1.94511319e+15 -7.57863842e+14 -2.36152085e+15 -4.10090270e+14]\n"
     ]
    }
   ],
   "source": [
    "# normalize data\n",
    "train_samples = 10000\n",
    "mean = data[:train_samples].mean(axis=0)\n",
    "data -= mean\n",
    "std = data[:train_samples].mean(axis=0)\n",
    "data /= std\n",
    "print(\"done\")\n",
    "#print(data[829])"
   ]
  },
  {
   "cell_type": "code",
   "execution_count": null,
   "metadata": {},
   "outputs": [],
   "source": []
  }
 ],
 "metadata": {
  "kernelspec": {
   "display_name": "Python 3",
   "language": "python",
   "name": "python3"
  },
  "language_info": {
   "codemirror_mode": {
    "name": "ipython",
    "version": 3
   },
   "file_extension": ".py",
   "mimetype": "text/x-python",
   "name": "python",
   "nbconvert_exporter": "python",
   "pygments_lexer": "ipython3",
   "version": "3.5.3"
  }
 },
 "nbformat": 4,
 "nbformat_minor": 2
}
