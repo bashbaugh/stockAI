{
 "cells": [
  {
   "cell_type": "markdown",
   "metadata": {},
   "source": [
    "# RNN trading AI v1"
   ]
  },
  {
   "cell_type": "code",
   "execution_count": 1,
   "metadata": {
    "scrolled": true
   },
   "outputs": [
    {
     "name": "stdout",
     "output_type": "stream",
     "text": [
      "data loaded\n"
     ]
    }
   ],
   "source": [
    "#load data\n",
    "import os\n",
    "data_file = \"../data/GC 06-18.txt\"\n",
    "with open(data_file, \"r\") as f:\n",
    "    rawdata = f.read()\n",
    "    f.close()\n",
    "print(\"data loaded\")"
   ]
  },
  {
   "cell_type": "code",
   "execution_count": 2,
   "metadata": {
    "scrolled": true,
    "slideshow": {
     "slide_type": "-"
    }
   },
   "outputs": [
    {
     "name": "stdout",
     "output_type": "stream",
     "text": [
      "697698\n",
      "data prepared\n"
     ]
    }
   ],
   "source": [
    "#prepare data\n",
    "import numpy as np\n",
    "lines = rawdata.split('\\n')\n",
    "print(len(lines))\n",
    "data = np.zeros((len(lines), 4))\n",
    "for i, line in enumerate(lines):\n",
    "    #origvalues = line.split('\\t')\n",
    "    #values = [float(v) for v in origvalues[2:]]\n",
    "    values = [float(v) for v in line.split('\\t')[2:]]\n",
    "    try:\n",
    "        data[i, :] = values\n",
    "    except:\n",
    "        data[i, :] = data[i - 1, :]\n",
    "\n",
    "print(\"data prepared\")"
   ]
  },
  {
   "cell_type": "code",
   "execution_count": 3,
   "metadata": {
    "scrolled": true
   },
   "outputs": [
    {
     "data": {
      "text/plain": [
       "[<matplotlib.lines.Line2D at 0x68bc3670>]"
      ]
     },
     "execution_count": 3,
     "metadata": {},
     "output_type": "execute_result"
    },
    {
     "data": {
      "image/png": "[encoded data removed]",
      "text/plain": [
       "<Figure size 432x288 with 1 Axes>"
      ]
     },
     "metadata": {
      "needs_background": "light"
     },
     "output_type": "display_data"
    }
   ],
   "source": [
    "from matplotlib import pyplot as plt\n",
    "val = data[:, 3]\n",
    "%matplotlib inline\n",
    "plt.plot(range(len(val)), val)"
   ]
  },
  {
   "cell_type": "code",
   "execution_count": 5,
   "metadata": {},
   "outputs": [
    {
     "name": "stdout",
     "output_type": "stream",
     "text": [
      "done\n"
     ]
    }
   ],
   "source": [
    "# normalize data\n",
    "samples = 10000\n",
    "mean = data[:samples].mean(axis=0)\n",
    "data -= mean\n",
    "std = data[:samples].mean(axis=0)\n",
    "data /= std\n",
    "print(\"done\")\n",
    "#print(data[829])"
   ]
  },
  {
   "cell_type": "code",
   "execution_count": null,
   "metadata": {},
   "outputs": [],
   "source": [
    "# generator to generate data batches\n",
    "def batch_generator(data, start_index, stop_index, avgsamples=[1], target_delay=3, \n",
    "                  target_samples=3, batch_size=128):\n",
    "    def generateAvg(data, index, samples):\n",
    "        avgsum = 0\n",
    "        for i in range(samples):\n",
    "            avgsum += data[index - i]\n",
    "        return avgsum / samples\n",
    "        \n",
    "#     if start_index < avgsamples[len(avgsamples) - 1]:\n",
    "#         start_index = avgsamples[len(avgsamples) - 1]\n",
    "#     if stop_index > len(data) - batch_size - target_delay - target_samples:\n",
    "#         stop_index = len(data) - batch_size - target_delay - target_samples\n",
    "    while True:\n",
    "        samples = np.zeros((batch_size, len(avgsamples)))\n",
    "        for s in batch_size:\n",
    "            for a in len(avgsamples):\n",
    "                samples[s][a] = generateAvg(data, start_index + s, avgsamples[a])"
   ]
  },
  {
   "cell_type": "code",
   "execution_count": 20,
   "metadata": {
    "scrolled": true
   },
   "outputs": [
    {
     "name": "stdout",
     "output_type": "stream",
     "text": [
      "6.5\n"
     ]
    }
   ],
   "source": []
  },
  {
   "cell_type": "code",
   "execution_count": null,
   "metadata": {},
   "outputs": [],
   "source": []
  }
 ],
 "metadata": {
  "kernelspec": {
   "display_name": "Python 3",
   "language": "python",
   "name": "python3"
  },
  "language_info": {
   "codemirror_mode": {
    "name": "ipython",
    "version": 3
   },
   "file_extension": ".py",
   "mimetype": "text/x-python",
   "name": "python",
   "nbconvert_exporter": "python",
   "pygments_lexer": "ipython3",
   "version": "3.5.3"
  }
 },
 "nbformat": 4,
 "nbformat_minor": 2
}
