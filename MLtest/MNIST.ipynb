{
 "cells": [
  {
   "cell_type": "code",
   "execution_count": 1,
   "metadata": {},
   "outputs": [
    {
     "name": "stderr",
     "output_type": "stream",
     "text": [
      "Using TensorFlow backend.\n",
      "/home/pi/Documents/stockAI/venv/lib/python3.5/importlib/_bootstrap.py:222: RuntimeWarning: compiletime version 3.4 of module 'tensorflow.python.framework.fast_tensor_util' does not match runtime version 3.5\n",
      "  return f(*args, **kwds)\n",
      "/home/pi/Documents/stockAI/venv/lib/python3.5/importlib/_bootstrap.py:222: RuntimeWarning: builtins.type size changed, may indicate binary incompatibility. Expected 432, got 412\n",
      "  return f(*args, **kwds)\n"
     ]
    },
    {
     "name": "stdout",
     "output_type": "stream",
     "text": [
      "Modules Loaded\n"
     ]
    }
   ],
   "source": [
    "from keras.datasets import mnist\n",
    "from keras import models, layers\n",
    "from keras.utils import to_categorical\n",
    "print(\"Modules Loaded\")"
   ]
  },
  {
   "cell_type": "code",
   "execution_count": 3,
   "metadata": {},
   "outputs": [
    {
     "name": "stdout",
     "output_type": "stream",
     "text": [
      "Data Loaded and Prepared\n"
     ]
    }
   ],
   "source": [
    "(train_images, train_labels), (test_images, test_labels) = mnist.load_data()\n",
    "train_images = train_images.reshape((60000, 28*28))\n",
    "train_images = train_images.astype('float32') / 255\n",
    "\n",
    "test_images = test_images.reshape((10000, 28*28))\n",
    "test_images = test_images.astype('float32') / 255\n",
    "train_labels = to_categorical(train_labels)\n",
    "test_labels = to_categorical(test_labels)\n",
    "print(\"Data Loaded and Prepared\")"
   ]
  },
  {
   "cell_type": "code",
   "execution_count": 4,
   "metadata": {},
   "outputs": [
    {
     "name": "stdout",
     "output_type": "stream",
     "text": [
      "Network Prepared\n"
     ]
    }
   ],
   "source": [
    "nn = models.Sequential()\n",
    "nn.add(layers.Dense(512, activation='relu', input_shape=(28*28,)))\n",
    "nn.add(layers.Dense(10, activation='softmax'))\n",
    "nn.compile(optimizer='rmsprop', loss='categorical_crossentropy', metrics=['accuracy'])\n",
    "print(\"Network Prepared\")"
   ]
  },
  {
   "cell_type": "code",
   "execution_count": null,
   "metadata": {},
   "outputs": [
    {
     "name": "stdout",
     "output_type": "stream",
     "text": [
      "Fitting Model\n",
      "Epoch 1/5\n",
      "60000/60000 [==============================] - 48s 804us/step - loss: 0.2561 - acc: 0.9255\n",
      "Epoch 2/5\n",
      "60000/60000 [==============================] - 47s 782us/step - loss: 0.1032 - acc: 0.9689\n",
      "Epoch 3/5\n",
      "60000/60000 [==============================] - 52s 862us/step - loss: 0.0684 - acc: 0.9797\n",
      "Epoch 4/5\n",
      "60000/60000 [==============================] - 56s 929us/step - loss: 0.0488 - acc: 0.9854\n",
      "Epoch 5/5\n",
      "54016/60000 [==========================>...] - ETA: 5s - loss: 0.0365 - acc: 0.9894"
     ]
    }
   ],
   "source": [
    "print(\"Fitting Model\")\n",
    "nn.fit(train_images, train_labels, epochs=5, batch_size=128)\n",
    "print(\"Done Fitting Model\")"
   ]
  },
  {
   "cell_type": "code",
   "execution_count": null,
   "metadata": {},
   "outputs": [],
   "source": [
    "test_loss, test_acc = nn.evaluate(test_images, test_labels)\n",
    "print(\"test accuracy: \" + str(test_acc)) "
   ]
  },
  {
   "cell_type": "code",
   "execution_count": null,
   "metadata": {},
   "outputs": [],
   "source": []
  }
 ],
 "metadata": {
  "kernelspec": {
   "display_name": "Python 3",
   "language": "python",
   "name": "python3"
  },
  "language_info": {
   "codemirror_mode": {
    "name": "ipython",
    "version": 3
   },
   "file_extension": ".py",
   "mimetype": "text/x-python",
   "name": "python",
   "nbconvert_exporter": "python",
   "pygments_lexer": "ipython3",
   "version": "3.5.3"
  }
 },
 "nbformat": 4,
 "nbformat_minor": 2
}
